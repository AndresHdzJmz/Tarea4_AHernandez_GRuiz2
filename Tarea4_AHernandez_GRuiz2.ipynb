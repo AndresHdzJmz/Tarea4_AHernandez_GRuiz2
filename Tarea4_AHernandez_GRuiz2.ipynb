{
 "cells": [
  {
   "cell_type": "markdown",
   "metadata": {},
   "source": [
    "<img style=\"float: left; margin: 30px 15px 15px 15px;\" src=\"https://pngimage.net/wp-content/uploads/2018/06/logo-iteso-png-5.png\" width=\"300\" height=\"500\" /> \n",
    "    \n",
    "    \n",
    "### <font color='navy'> Simulación de procesos financieros. \n",
    "\n",
    "**Nombres:** Andrés Hernández Jiménez, Gerardo Ruiz Velasco Lazalde.\n",
    "\n",
    "**Fecha:** 20 de febrero del 2021.\n",
    "\n",
    "**Expediente** : 717895,715878 .\n",
    "**Profesor:** Oscar David Jaramillo Zuluaga.\n",
    "\n",
    "**Link repositorio: https://github.com/AndresHdzJmz/Tarea4_AHernandez_GRuiz **\n",
    "\n",
    "# Tarea 4: Clase 7"
   ]
  },
  {
   "cell_type": "markdown",
   "metadata": {},
   "source": [
    "# Tarea 4\n",
    "\n",
    "# 1\n",
    "Como ejemplo simple de una simulación de Monte Carlo, considere calcular la probabilidad de una suma particular del lanzamiento de tres dados (cada dado tiene valores del uno al seis). Además cada dado tiene las siguientes carácterísticas: el primer dado no está cargado (distribución uniforme todos son equiprobables); el segundo y tercer dado están cargados basados en una distribución binomial con parámetros (`n=5, p=0.5` y `n=5, p=0.2`). Calcule la probabilidad de que la suma resultante sea 7, 14 o 18. "
   ]
  },
  {
   "cell_type": "code",
   "execution_count": 2,
   "metadata": {},
   "outputs": [
    {
     "data": {
      "text/plain": [
       "0.17"
      ]
     },
     "execution_count": 2,
     "metadata": {},
     "output_type": "execute_result"
    }
   ],
   "source": [
    "#Respuesta Andrés\n",
    "import numpy as np\n",
    "import matplotlib.pyplot as plt\n",
    "import scipy.stats as st\n",
    "\n",
    "d_no_cargado=np.random.randint(1,7,1)\n",
    "d_cargado=st.binom(n=5,p=0.5).rvs(size=1)\n",
    "d_cargado_2=st.binom(n=5,p=0.2).rvs(size=1)\n",
    "def suma_dados (d_no_cargado,d_cargado,d_cargado_2):\n",
    "    d_no_cargado=np.random.randint(1,7,1)\n",
    "    d_cargado=st.binom(n=5,p=0.5).rvs(size=1)\n",
    "    d_cargado_2=st.binom(n=5,p=0.2).rvs(size=1)\n",
    "    tirada=d_no_cargado+d_cargado+d_cargado_2\n",
    "    if tirada==7 or tirada==14 or tirada==18:\n",
    "        return 1\n",
    "    else:\n",
    "        return 0\n",
    "N=100\n",
    "suma=[suma_dados(d_no_cargado,d_cargado,d_cargado_2) for i in range(N)]\n",
    "sum(suma)/N"
   ]
  },
  {
   "cell_type": "markdown",
   "metadata": {},
   "source": [
    "Este ejercicio se hizo con la misma lógica vista en clase de un dado cargado, la diferencía consistió en agregar otros dos dados y sumar las probabilidades. El código arroja un valor de 0 a 1 dependiendo si la suma es equivalente a 7, 14 o 18."
   ]
  },
  {
   "cell_type": "code",
   "execution_count": 1,
   "metadata": {},
   "outputs": [
    {
     "data": {
      "text/plain": [
       "array([0.12712, 0.01359, 0.     ])"
      ]
     },
     "execution_count": 1,
     "metadata": {},
     "output_type": "execute_result"
    }
   ],
   "source": [
    "#Respuesta Gerardo\n",
    "import numpy as np\n",
    "import matplotlib.pyplot as plt\n",
    "import scipy.stats as st\n",
    "np.random.seed(123)\n",
    "N=100000\n",
    "# Graficar el histograma de 1000 lanazamientos del dado\n",
    "d_no_cargad= np.random.randint(1,7,N)\n",
    "d_cargado= st.binom(n=5,p=0.5, loc = 1).rvs(size=N)\n",
    "d_cargado2= st.binom(n=5,p=0.2, loc = 1).rvs(size=N)\n",
    "\n",
    "sumadados= d_cargado + d_cargado2 + d_no_cargad\n",
    "\n",
    "proba7 = sum(list(map(lambda x: 1 if x == 7 else 0, sumadados))) / N\n",
    "proba14 = sum(list(map(lambda x: 1 if x == 14 else 0, sumadados))) / N\n",
    "proba18 = sum(list(map(lambda x: 1 if x == 18 else 0, sumadados))) / N\n",
    "\n",
    "np.array([proba7,proba14,proba18])"
   ]
  },
  {
   "cell_type": "code",
   "execution_count": null,
   "metadata": {},
   "outputs": [],
   "source": []
  },
  {
   "cell_type": "markdown",
   "metadata": {},
   "source": [
    "# 2 Ejercicio de aplicación- Cafetería Central\n",
    "\n",
    "Premisas para la simulación:\n",
    "- Negocio de alimentos que vende bebidas y alimentos.\n",
    "- Negocio dentro del ITESO.\n",
    "- Negocio en cafetería central.\n",
    "- Tipo de clientes (hombres y mujeres).\n",
    "- Rentabilidad del 60%.\n",
    "\n",
    "## Objetivo\n",
    "Realizar una simulación estimado el tiempo medio que se tardaran los clientes en ser atendidos entre el horario de 6:30 a 1 pm. Además saber el consumo. \n",
    "**Analizar supuestos y limitantes**"
   ]
  },
  {
   "cell_type": "markdown",
   "metadata": {},
   "source": [
    "## Supuestos en simulación\n",
    "Clasificación de clientes: \n",
    "- Mujer  = 1 $\\longrightarrow$ aleatorio < 0.5\n",
    "- Hombre = 0 $\\longrightarrow$ aleatorio $\\geq$ 0.5.\n",
    "\n",
    "Condiciones iniciales:\n",
    "- Todas las distrubuciones de probabilidad se supondrán uniformes.\n",
    "- Tiempo de simulación: 6:30 am - 1:30pm $\\longrightarrow$ T = 7 horas = 25200 seg.\n",
    "- Tiempo de llegada hasta ser atendido: Min=5seg, Max=30seg.\n",
    "- Tiempo que tardan los clientes en ser atendidos:\n",
    "    - Mujer: Min = 1 min= 60seg, Max = 5 min = 300 seg\n",
    "    - Hombre: Min = 40 seg, Max = 2 min= 120 seg\n",
    "- Consumo según el tipo de cliente:\n",
    "    - Mujer: Min = 30 pesos, Max = 100 pesos\n",
    "    - Hombre: Min = 20 pesos, Max = 80 pesos\n",
    "\n",
    "Responder las siguientes preguntas basados en los datos del problema:\n",
    "1. ¿Cuáles fueron los gastos de los hombres y las mujeres en 5 días de trabajo?.\n",
    "2. ¿Cuál fue el consumo promedio de los hombres y mujeres?\n",
    "3. ¿Cuál fue el número de personas atendidas por día?\n",
    "4. ¿Cuál fue el tiempo de atención promedio?\n",
    "5. ¿Cuánto fue la ganancia promedio de la cafetería en 5 días de trabajo y su respectiva rentabilidad?"
   ]
  },
  {
   "cell_type": "code",
   "execution_count": 2,
   "metadata": {},
   "outputs": [],
   "source": [
    "################## Datos del problema\n",
    "d = 5\n",
    "T =25200\n",
    "T_at_min = 5; T_at_max = 30\n",
    "T_mujer_min =60; T_mujer_max = 300\n",
    "T_hombre_min = 40; T_hombre_max = 120\n",
    "C_mujer_min = 30; C_mujer_max = 100\n",
    "C_hombre_min = 20; C_hombre_max = 80"
   ]
  },
  {
   "cell_type": "code",
   "execution_count": 5,
   "metadata": {},
   "outputs": [
    {
     "name": "stdout",
     "output_type": "stream",
     "text": [
      "Gastos de los hombres y mujeres 528.7585942743808\n",
      "Consumo promedio 105.75171885487616\n",
      "Cantidad de personas atendidas por día 172.8\n",
      "Tiempo de atención promedio 129.23075572269622\n",
      "Rentabilidad promedio en 5 días 63.45103131292571\n"
     ]
    }
   ],
   "source": [
    "#Respuesta Andrés\n",
    "d = 5\n",
    "T =25200\n",
    "personas=np.random.rand(200)\n",
    "T_at_min = 5; T_at_max = 30\n",
    "T_mujer_min =60; T_mujer_max = 300\n",
    "T_hombre_min = 40; T_hombre_max = 120\n",
    "C_mujer_min = 30; C_mujer_max = 100\n",
    "C_hombre_min = 20; C_hombre_max = 80\n",
    "\n",
    "T_atencion=[]\n",
    "cantidad_hombres=[]\n",
    "cantidad_mujeres=[]\n",
    "personas_atendidas=[]\n",
    "consumo_hombres=[]\n",
    "consumo_mujeres=[]\n",
    "ganancia=[]\n",
    "rentabilidad=[]\n",
    "\n",
    "for k in range (d):\n",
    "    t_atencion=0\n",
    "    n_mujeres=0\n",
    "    n_hombres=0\n",
    "    i=0\n",
    "    c_mujer=0\n",
    "    c_hombre=0\n",
    "\n",
    "    while t_atencion <=T:\n",
    "        t_llegada=np.random.uniform(T_at_min,T_at_max)\n",
    "        t_atencion +=t_llegada\n",
    "        if personas[i]<0.5:\n",
    "            t_personas=np.random.uniform(T_mujer_min,T_mujer_max)\n",
    "            t_atencion+=t_personas\n",
    "            n_mujeres+= 1\n",
    "            c_mujer=np.random.uniform(C_mujer_min,C_mujer_max)\n",
    "        else:\n",
    "            t_personas=np.random.uniform(T_hombre_min,T_hombre_max)\n",
    "            t_atencion+=t_personas\n",
    "            n_hombres += 1\n",
    "            c_hombre=np.random.uniform(C_hombre_min,C_hombre_max)\n",
    "        i+= 1\n",
    "        T_atencion.append(t_personas)\n",
    "        \n",
    "    cantidad_hombres.append(n_hombres)\n",
    "    cantidad_mujeres.append(n_mujeres)\n",
    "    consumo_hombres.append(c_hombre)\n",
    "    consumo_mujeres.append(c_mujer)\n",
    "    personas_atendidas.append(i)\n",
    "    ganancia.append((c_hombre+c_mujer))\n",
    "    rentabilidad.append((c_hombre+c_mujer)*0.6)\n",
    "print ('Gastos de los hombres y mujeres',sum(ganancia))\n",
    "print ('Consumo promedio',np.mean(ganancia))\n",
    "print ('Cantidad de personas atendidas por día',np.mean(personas_atendidas))\n",
    "print('Tiempo de atención promedio',np.mean(T_atencion))\n",
    "print('Rentabilidad promedio en 5 días',np.mean(rentabilidad))"
   ]
  },
  {
   "cell_type": "markdown",
   "metadata": {},
   "source": [
    "Este ejercicio fué complicado para plantear debido a que me pareció confuso por las dos etapas que se manejaban, el de antes de ser atendidos y el tiempo de llegada antes de ser atendido. Por otro lado el manejo de tantos datos resultó en la creación de muchas listas. Intenté optimizar mi código haciendo de estas listas un vector pero no me fué posible por el momento."
   ]
  },
  {
   "cell_type": "code",
   "execution_count": 3,
   "metadata": {},
   "outputs": [
    {
     "name": "stdout",
     "output_type": "stream",
     "text": [
      "[ 3995.43373154  5843.83262184    64.93147358    52.57149647\n",
      "   166.           152.24948508 29517.79906015]\n"
     ]
    }
   ],
   "source": [
    "#Respuesta Gerardo\n",
    "np.random.seed(302)\n",
    "def Ejercicio2(Personas,T):\n",
    "    tiempo_total = 0 \n",
    "    i = 0 \n",
    "    Mujeres = 0\n",
    "    Hombres = 0\n",
    "    Gasto_Hombre = 0\n",
    "    Gasto_Mujer = 0\n",
    "    Tiempo_Total = []   \n",
    "    \n",
    "    while tiempo_total <= T:\n",
    "        TiempoCero = np.random.uniform(T_at_min,T_at_max)\n",
    "        tiempo_total += TiempoCero\n",
    "        \n",
    "        if Personas[i]>=0.5:\n",
    "            TiempoAtencion = np.random.uniform(T_hombre_min,T_hombre_max)\n",
    "            tiempo_total += TiempoAtencion\n",
    "            Hombres += 1\n",
    "            Gasto_Hombre += np.random.uniform(C_hombre_min,C_hombre_max)\n",
    "        \n",
    "        else:#Personas<.5\n",
    "            TiempoAtencion = np.random.uniform(T_mujer_min,T_mujer_max)\n",
    "            tiempo_total += TiempoAtencion\n",
    "            Mujeres += 1\n",
    "            Gasto_Mujer += np.random.uniform(C_mujer_min,C_mujer_max)\n",
    "        \n",
    "        i += 1\n",
    "        Tiempo_Total.append(TiempoAtencion)\n",
    "        \n",
    "    \n",
    "    return np.array([Gasto_Hombre,Gasto_Mujer,Gasto_Mujer/Mujeres,Gasto_Hombre/Hombres,\n",
    "                    i,tiempo_total/i,(Gasto_Hombre+Gasto_Mujer)*0.6*5])\n",
    "print(Ejercicio2(np.random.rand(10000000),T))"
   ]
  },
  {
   "cell_type": "code",
   "execution_count": null,
   "metadata": {},
   "outputs": [],
   "source": []
  }
 ],
 "metadata": {
  "kernelspec": {
   "display_name": "Python 3",
   "language": "python",
   "name": "python3"
  },
  "language_info": {
   "codemirror_mode": {
    "name": "ipython",
    "version": 3
   },
   "file_extension": ".py",
   "mimetype": "text/x-python",
   "name": "python",
   "nbconvert_exporter": "python",
   "pygments_lexer": "ipython3",
   "version": "3.7.1"
  }
 },
 "nbformat": 4,
 "nbformat_minor": 2
}
